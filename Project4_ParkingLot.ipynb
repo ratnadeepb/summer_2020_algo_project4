{
 "cells": [
  {
   "cell_type": "code",
   "execution_count": 1,
   "metadata": {},
   "outputs": [],
   "source": [
    "import numpy as np\n",
    "import heapq"
   ]
  },
  {
   "cell_type": "code",
   "execution_count": 2,
   "metadata": {},
   "outputs": [
    {
     "data": {
      "text/plain": [
       "[['-', '-', '-', '-', '-', '-'],\n",
       " ['-', '-', '-', '-', '-', '-'],\n",
       " ['-', '-', '-', '-', '-', '-'],\n",
       " ['-', '-', '-', '-', '-', '-'],\n",
       " ['-', '-', '-', '-', '-', '-'],\n",
       " ['-', '-', '-', '-', '-', '-']]"
      ]
     },
     "execution_count": 2,
     "metadata": {},
     "output_type": "execute_result"
    }
   ],
   "source": [
    "size = 6\n",
    "# parking_lot = [['-'] * size] * size # pointers to same objects\n",
    "parking_lot = []\n",
    "# creates distinct memory objects at each cell    \n",
    "parking_lot = [['-' for _ in range(size)] for _ in range(size)]\n",
    "parking_lot"
   ]
  },
  {
   "cell_type": "code",
   "execution_count": 3,
   "metadata": {},
   "outputs": [],
   "source": [
    "parking_lot[2][0] = parking_lot[2][1] = 'R'\n",
    "parking_lot[0][1] = parking_lot[1][1] = 'S'\n",
    "parking_lot[0][2] = parking_lot[0][3] = 'F'\n",
    "parking_lot[0][4] = parking_lot[0][5] = 'G'\n",
    "parking_lot[1][4] = parking_lot[1][5] = 'H'\n",
    "parking_lot[1][3] = parking_lot[2][3] = 'I'\n",
    "parking_lot[3][0] = parking_lot[4][0] = parking_lot[5][0] = 'C'\n",
    "# parking_lot[3][0] = parking_lot[4][0] = 'C'\n",
    "parking_lot[3][1] = parking_lot[3][2] = parking_lot[3][3] = 'B'\n",
    "# parking_lot[3][1] = parking_lot[3][2] = 'B'\n",
    "parking_lot[4][2] = parking_lot[5][2] = 'K'\n",
    "parking_lot[2][4] = parking_lot[3][4] = parking_lot[4][4] = 'A'\n",
    "# parking_lot[2][4] = parking_lot[3][4] = 'A'\n",
    "parking_lot[2][5] = parking_lot[3][5] = 'M'\n",
    "parking_lot[4][5] = parking_lot[5][5] = 'P'\n",
    "START = [[2, 0], [2, 1]]\n",
    "EXIT = [3, 5]"
   ]
  },
  {
   "cell_type": "code",
   "execution_count": 4,
   "metadata": {},
   "outputs": [
    {
     "data": {
      "text/plain": [
       "[['-', 'S', 'F', 'F', 'G', 'G'],\n",
       " ['-', 'S', '-', 'I', 'H', 'H'],\n",
       " ['R', 'R', '-', 'I', 'A', 'M'],\n",
       " ['C', 'B', 'B', 'B', 'A', 'M'],\n",
       " ['C', '-', 'K', '-', 'A', 'P'],\n",
       " ['C', '-', 'K', '-', '-', 'P']]"
      ]
     },
     "execution_count": 4,
     "metadata": {},
     "output_type": "execute_result"
    }
   ],
   "source": [
    "parking_lot"
   ]
  },
  {
   "cell_type": "code",
   "execution_count": 5,
   "metadata": {},
   "outputs": [
    {
     "data": {
      "text/plain": [
       "[['-', '-', '-', '-', '-', '-'],\n",
       " ['-', '-', '-', '-', '-', '-'],\n",
       " ['R', 'R', '-', '-', '-', '-'],\n",
       " ['-', '-', '-', '-', '-', '-'],\n",
       " ['-', '-', '-', '-', '-', '-'],\n",
       " ['-', '-', '-', '-', '-', '-']]"
      ]
     },
     "execution_count": 5,
     "metadata": {},
     "output_type": "execute_result"
    }
   ],
   "source": [
    "graph = [['-' for _ in range(size)] for _ in range(size)]\n",
    "graph[2][0] = graph[2][1] = 'R'\n",
    "graph"
   ]
  },
  {
   "cell_type": "code",
   "execution_count": 6,
   "metadata": {},
   "outputs": [],
   "source": [
    "class node:\n",
    "    # give front cell row and col\n",
    "    # give back cell row and col\n",
    "    # however, after a few move anything can happen so check the actual values when moving\n",
    "    def __init__(f_r, f_c, b_r, b_c):\n",
    "        self.f_r = f_r\n",
    "        self.f_c = f_c\n",
    "        self.b_r = b_r\n",
    "        self.b_c = b_c\n",
    "        self.cost_frm_src = 0\n",
    "        \n",
    "    def update_cost_frm_src(self, cost):\n",
    "        self.cost_frm_src += cost\n",
    "    \n",
    "    # move forward one cell in the same row\n",
    "    def move_forward(self):\n",
    "        if (self.f_c > self.b_c and self.f_c + 1 < size) or (self.b_c > self.f_c and self.b_c + 1 < size):\n",
    "            self.b_c += 1\n",
    "            self.f_c += 1\n",
    "            \n",
    "    # move back one cell in the same row\n",
    "    def move_backward(self):\n",
    "        if (self.b_c < self.f_c and self.b_c - 1 > -1) and (self.f_c < self.b_c and self.f_c - 1 > -1):\n",
    "            self.f_c -= 1\n",
    "            self.b_c -= 1\n",
    "            \n",
    "    # shift one row upward\n",
    "    def move_up(self):\n",
    "        if self.b_r == self.f_r: # horizontally aligned\n",
    "            if self.b_r - 1 > -1:\n",
    "                self.b_r = self.f_r = self.f_r - 1\n",
    "        else: # vertically aligned\n",
    "            if (self.b_r < self.f_r and self.b_r - 1 > -1) or (self.f_r < self.b_r and self.f_r - 1 > -1):\n",
    "                self.b_r -= 1\n",
    "                self.f_r -= 1\n",
    "                \n",
    "    # shift one row downward\n",
    "    def move_down(self):\n",
    "        if self.b_r == self.f_r: # horizontally aligned\n",
    "            if self.b_r + 1 < size:\n",
    "                self.b_r = self.f_r = self.f_r + 1\n",
    "        else: # vertically aligned\n",
    "            if (self.b_r > self.f_r and self.b_r + 1 < size) or (self.f_r > self.b_r and self.f_r + 1 < size):\n",
    "                self.b_r += 1\n",
    "                self.f_r += 1\n",
    "                \n",
    "#     # pivot on the front cell and rotate 90 upward\n",
    "#     # alignment will change from horizontal to vertical or from vertical to horizontal\n",
    "#     # the cell in front will remain in position while the cell behind/below rotates 90 degrees\n",
    "#     def pivot_back_up(self, counter=True):\n",
    "#         if self.b_r == self.f_r: #horizontal alignment\n",
    "#              if self.f_c > self.b_C and self.b_r - 1 > -1:\n",
    "#                     self.b_c = self.f_c\n",
    "#                     self.b_r -= 1\n",
    "#         else: # vertical alignment\n",
    "#             # it can move either clockwise or counter-clockwise\n",
    "#             if self.b_r > self.f_r: # b_r is below\n",
    "#                 if counter and self.b_c + 1 < size:\n",
    "#                     self.b_r = self.f_r\n",
    "#                     self.b_c += 1\n",
    "#                 elif not counter and self.b_c - 1 > -1:\n",
    "#                     self.b_r = self.f_r\n",
    "#                     self.b_c -= 1\n",
    "#             else:\n",
    "#                 if counter and self.f_c + 1 < size:\n",
    "#                     self.f_r = self.b_r\n",
    "#                     self.f_c += 1\n",
    "#                 elif not counter and self.f_c - 1 > -1:\n",
    "#                     self.f_r = self.b_r\n",
    "#                     self.f_c -= 1\n",
    "\n",
    "    def vertical_2_horizontal(self, forward=True):\n",
    "        # the back cell can rotate upward (counter- and clockwise)\n",
    "        # the front cell can rotate downward (counter- and clockwise)\n",
    "        if self.b_r > self.f_r: # b_r is below\n",
    "            if forward and self.f_c + 1 < size: # prefer to move forward\n",
    "                self.b_r = self.f_r\n",
    "                self.b_c += 1\n",
    "            elif not forward and self.f_c - 1 > -1:\n",
    "                self.b_r = self.f_r\n",
    "                self.b_c += 1\n",
    "        else:\n",
    "            if forward and self.b_c + 1 < size: # prefer to move forward\n",
    "                self.f_r = self.b_r\n",
    "                self.f_c += 1\n",
    "            elif not forward and self.b_c - 1 > -1:\n",
    "                self.f_r = self.b_r\n",
    "                self.f_c += 1\n",
    "    \n",
    "    def horizontal_2_vertical(self, up=True):\n",
    "        if self.b_c > self.f_c: # b_c is in front\n",
    "            if up and self.b_r - 1 > -1: # arbitrarily chosing to move upward preferentially\n",
    "                self.b_c = self.f_c\n",
    "                self.b_r -= 1\n",
    "            elif not up and self.b_c + 1 < size:\n",
    "                self.b_c = self.f_c\n",
    "                self.b_r += 1\n",
    "        else:\n",
    "            if up and self.f_r - 1 > -1: # arbitrarily chosing to move upward preferentially\n",
    "                self.f_c = self.b_c\n",
    "                self.f_r -= 1\n",
    "            elif not up and  self.f_c + 1 < size:\n",
    "                self.f_c = self.b_c\n",
    "                self.f_r += 1"
   ]
  },
  {
   "cell_type": "code",
   "execution_count": 7,
   "metadata": {},
   "outputs": [],
   "source": [
    "def cost(node, dst, src):\n",
    "    # Manhattan distance\n",
    "    return np.abs(node[0] - dst[0]) + np.abs(node[1] - dst[1]) + np.abs(node[0] - src[0]) + np.abs(node[1] - src[1])"
   ]
  },
  {
   "cell_type": "code",
   "execution_count": 8,
   "metadata": {},
   "outputs": [
    {
     "data": {
      "text/plain": [
       "5"
      ]
     },
     "execution_count": 8,
     "metadata": {},
     "output_type": "execute_result"
    }
   ],
   "source": [
    "SRC = [2, 1]\n",
    "DST = [3, 5]\n",
    "node = [2, 2]\n",
    "cost(node, DST, SRC)"
   ]
  },
  {
   "cell_type": "code",
   "execution_count": 9,
   "metadata": {},
   "outputs": [],
   "source": [
    "SRC = [2, 1]\n",
    "DST = [3, 5]\n",
    "COSTS = [[np.inf for _ in range(size)] for _ in range(size)]\n",
    "COSTS[SRC[0]][SRC[1]] = 0\n",
    "i = SRC[0]\n",
    "j = SRC[1]\n",
    "for i in range(size):\n",
    "    for j in range(size):\n",
    "        COSTS[i][j] = cost([i, j], SRC, DST)\n",
    "COSTS[DST[0]][DST[1]] = 0"
   ]
  },
  {
   "cell_type": "code",
   "execution_count": 10,
   "metadata": {},
   "outputs": [
    {
     "data": {
      "text/plain": [
       "[[11, 9, 9, 9, 9, 9],\n",
       " [9, 7, 7, 7, 7, 7],\n",
       " [7, 5, 5, 5, 5, 5],\n",
       " [7, 5, 5, 5, 5, 0],\n",
       " [9, 7, 7, 7, 7, 7],\n",
       " [11, 9, 9, 9, 9, 9]]"
      ]
     },
     "execution_count": 10,
     "metadata": {},
     "output_type": "execute_result"
    }
   ],
   "source": [
    "COSTS"
   ]
  },
  {
   "cell_type": "code",
   "execution_count": 11,
   "metadata": {},
   "outputs": [],
   "source": [
    "def get_neighborhood(pos, size):\n",
    "    \"\"\"pos should be a list of 2 lists indicating position of the red car\n",
    "    example: [[2, 1], [3, 1]]\n",
    "    size is simply the size of grid\n",
    "    # visited contains elements we don't want to add in the neighborhood, typically because we have already seen them\n",
    "    \"\"\"\n",
    "#     assert isinstance(pos, list)\n",
    "#     assert len(pos) == 2\n",
    "#     assert isinstance(pos[0], list)\n",
    "#     assert len(pos[0]) == 2\n",
    "#     assert isinstance(pos[1], list)\n",
    "#     assert len(pos[1]) == 2\n",
    "    n = []\n",
    "    f_r, f_c = pos[0]\n",
    "    b_r, b_c = pos[1]\n",
    "    \n",
    "    # Assumption is car can't move diagonally and hence will never be diagonally aligned\n",
    "    \n",
    "    if f_r == b_r: # same row => car is horizontally aligned\n",
    "        if f_c < b_c: # front cell is actually back cell\n",
    "            # swap cells\n",
    "            t_r = f_r\n",
    "            t_c = f_c\n",
    "            f_r = b_r\n",
    "            f_c = b_c\n",
    "            b_r = t_r\n",
    "            b_c = t_c\n",
    "        if f_r + 1 < size and b_r + 1 < size: # row below is valid\n",
    "            n.append([[f_r + 1, f_c], [b_r + 1, b_c]]) # shift down a row\n",
    "            n.append([[f_r, f_c], [b_r + 1, f_c]]) # rotate down 90 degrees pivoting on the front cell\n",
    "            n.append([[f_r + 1, b_c], [b_r, b_c]]) # rotate down 90 degrees pivoting on the back cell\n",
    "        if f_r - 1 > -1 and b_r - 1 > -1: # row above is valid\n",
    "            n.append([[f_r - 1, f_c], [b_r - 1, b_c]]) # shift up a row\n",
    "            n.append([[f_r, f_c], [b_r - 1, f_c]]) # rotate up 90 degrees pivoting on the front cell\n",
    "            n.append([[f_r - 1, b_c], [b_r, b_c]]) # rotate up 90 degrees pivoting on the back cell\n",
    "        if f_c + 1 < size and b_c + 1 < size: # next column is valid\n",
    "            n.append([[f_r, f_c + 1], [b_r, b_c + 1]]) # move ahead by one column\n",
    "        if b_c - 1 > -1 and f_c - 1 > -1: # previous column is valid\n",
    "            n.append([[f_r, f_c - 1], [b_r, b_c - 1]]) # move back by one column\n",
    "    else: # car is vertically aligned\n",
    "        if f_r > b_r: # f is the bottom cell\n",
    "            t_r, t_c = b_r, b_c # top cell\n",
    "            b_r, b_c = f_r, f_c # bottom cell\n",
    "        else:\n",
    "            t_r, t_c = f_r, f_c # top cell\n",
    "        if t_c - 1 > -1 and b_c - 1 > -1: # previous column is valid\n",
    "            n.append([[t_r, t_c - 1], [b_r, b_c - 1]]) # shift to the previous column\n",
    "            n.append([[b_r, t_c - 1], [b_r, b_c]]) # rotate left by 90 degrees pivoting on the bottom cell\n",
    "            n.append([[t_r, t_c], [t_r, b_c - 1]]) # rotate left by 90 degrees pivoting on the top cell\n",
    "        if t_c + 1 < size and b_c + 1 < size: # next column is valid\n",
    "            n.append([[t_r, t_c + 1], [b_r, b_c + 1]]) # shift to the next column\n",
    "            n.append([[b_r, t_c + 1], [b_r, b_c]]) # rotate right by 90 degrees pivoting on the bottom cell\n",
    "            n.append([[t_r, t_c], [t_r, b_c + 1]]) # rotate right by 90 degrees pivoting on the top cell\n",
    "        if t_r - 1 > -1 and b_r - 1 > -1: # the row above is valid\n",
    "            n.append([[t_r - 1, t_c], [b_r - 1, b_c]]) # move up by one row\n",
    "        if b_r + 1 < size and t_r + 1 < size: # the row below is valid\n",
    "            n.append([[t_r + 1, t_c], [b_r + 1, b_c]]) # move down by one row\n",
    "            \n",
    "#     neighborhood = [elem for elem in n if elem not in visited]\n",
    "    return n"
   ]
  },
  {
   "cell_type": "code",
   "execution_count": 12,
   "metadata": {},
   "outputs": [],
   "source": [
    "def astar(src, dst, costs, size):\n",
    "    \"\"\"\n",
    "    @inputs:\n",
    "        src: the starting point\n",
    "        dst: the destination point\n",
    "        costs: costs of each cell (as measured by the cost function)\n",
    "        size: the size of the grid\n",
    "    @output:\n",
    "        list containing cells that constitute the least cost path\n",
    "    \"\"\"\n",
    "    frontier = []\n",
    "    heapq.heapify(frontier)\n",
    "    c = 0.5 * (costs[src[0][0]][src[0][1]] + costs[src[0][0]][src[0][1]])\n",
    "    heapq.heappush(frontier, (c, src))\n",
    "    path = []\n",
    "    visited = []\n",
    "    while frontier:\n",
    "        pos = heapq.heappop(frontier)[1]\n",
    "        path.append(pos)\n",
    "        if pos[0] == dst or pos[1] == dst:\n",
    "            path.append(pos)\n",
    "            break\n",
    "        neighborhood = get_neighborhood(pos, size)\n",
    "        for n in neighborhood:\n",
    "            if n not in visited:\n",
    "                c = 0.5 * (costs[n[0][0]][n[0][1]] + costs[n[0][0]][n[0][1]])\n",
    "                heapq.heappush(frontier, (c, n))\n",
    "                visited.append(n)\n",
    "    return path"
   ]
  },
  {
   "cell_type": "code",
   "execution_count": 13,
   "metadata": {},
   "outputs": [
    {
     "data": {
      "text/plain": [
       "[[[2, 0], [2, 1]],\n",
       " [[2, 1], [1, 1]],\n",
       " [[2, 1], [3, 1]],\n",
       " [[2, 1], [2, 0]],\n",
       " [[2, 1], [2, 2]],\n",
       " [[2, 2], [1, 2]],\n",
       " [[2, 2], [2, 1]],\n",
       " [[2, 2], [3, 2]],\n",
       " [[2, 2], [2, 3]],\n",
       " [[2, 3], [1, 3]],\n",
       " [[2, 3], [2, 2]],\n",
       " [[2, 3], [3, 3]],\n",
       " [[2, 3], [2, 4]],\n",
       " [[2, 4], [1, 4]],\n",
       " [[2, 4], [2, 3]],\n",
       " [[2, 4], [3, 4]],\n",
       " [[3, 5], [3, 4]],\n",
       " [[3, 5], [3, 4]]]"
      ]
     },
     "execution_count": 13,
     "metadata": {},
     "output_type": "execute_result"
    }
   ],
   "source": [
    "SRC = [[2, 0], [2, 1]]\n",
    "astar(SRC, DST, COSTS, size)"
   ]
  }
 ],
 "metadata": {
  "kernelspec": {
   "display_name": "Python 3",
   "language": "python",
   "name": "python3"
  },
  "language_info": {
   "codemirror_mode": {
    "name": "ipython",
    "version": 3
   },
   "file_extension": ".py",
   "mimetype": "text/x-python",
   "name": "python",
   "nbconvert_exporter": "python",
   "pygments_lexer": "ipython3",
   "version": "3.7.7"
  }
 },
 "nbformat": 4,
 "nbformat_minor": 4
}
